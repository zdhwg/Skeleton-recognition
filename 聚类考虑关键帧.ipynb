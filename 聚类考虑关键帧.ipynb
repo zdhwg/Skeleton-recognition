{
 "cells": [
  {
   "cell_type": "markdown",
   "metadata": {},
   "source": [
    "# k-means用于提取关键帧"
   ]
  },
  {
   "cell_type": "code",
   "execution_count": 1,
   "metadata": {},
   "outputs": [],
   "source": [
    "from sklearn.cluster import KMeans\n",
    "import numpy as np"
   ]
  },
  {
   "cell_type": "code",
   "execution_count": 2,
   "metadata": {},
   "outputs": [],
   "source": [
    "data = np.load(\"D:\\python code\\行为识别\\实验\\Skeleton-recognition\\data\\msr_3D_dataset.npy\",allow_pickle=True)\n",
    "# labels = np.load(\"D:\\python code\\行为识别\\实验\\Skeleton-recognition\\data\\msr_3D_label.npy\")\n",
    "# data = np.load(\"D:/python code/行为识别/ntu-xview小型数据集实验/ntu_xview/train_4000.npy\")\n",
    "# x = data[0].reshape(300,25,6)\n",
    "# x = x.reshape(300,-1)"
   ]
  },
  {
   "cell_type": "code",
   "execution_count": null,
   "metadata": {},
   "outputs": [],
   "source": [
    "k = 10 #聚类数\n",
    "#model = KMeans(n_clusters = k, n_jobs = 4, max_iter = iteration) #分为k类，并发数4\n",
    "def distEclud(vecA, vecB):\n",
    "        return np.linalg.norm(vecA - vecB)\n",
    "def key_frame(data):\n",
    "    key = []\n",
    "    for m in range(data.shape[0]):\n",
    "        model = KMeans(n_clusters = k, max_iter = 150) #分为k类\n",
    "        model.fit(data[m]) #开始聚类\n",
    "        x = data[m]\n",
    "        label_ = model.labels_\n",
    "        cents = model.cluster_centers_\n",
    "        sort = []\n",
    "        for i in range(k):\n",
    "            id_ = [s for s,n in enumerate(label_) if n==i]\n",
    "            minDist = np.inf\n",
    "            minIndex = -1\n",
    "            for j in id_:\n",
    "                distJI = distEclud(cents[i, :], x[j, :])\n",
    "                if distJI < minDist:\n",
    "                    minDist = distJI\n",
    "                    minIndex = j\n",
    "            sort.append(j)\n",
    "        sort.sort()\n",
    "#         print(m)\n",
    "        key.append(x[sort])\n",
    "    return key\n",
    "#         print(\"已完成:\",m)\n",
    "\n",
    "key = key_frame(data) "
   ]
  },
  {
   "cell_type": "code",
   "execution_count": null,
   "metadata": {},
   "outputs": [],
   "source": [
    "         "
   ]
  },
  {
   "cell_type": "code",
   "execution_count": 14,
   "metadata": {},
   "outputs": [],
   "source": [
    "key = np.array(key)\n",
    "np.save(\"D:\\python code\\行为识别\\实验\\Skeleton-recognition\\data\\msr_3D_keyframe_k=10.npy\",key)"
   ]
  },
  {
   "cell_type": "code",
   "execution_count": null,
   "metadata": {},
   "outputs": [],
   "source": []
  },
  {
   "cell_type": "code",
   "execution_count": null,
   "metadata": {},
   "outputs": [],
   "source": []
  },
  {
   "cell_type": "code",
   "execution_count": null,
   "metadata": {},
   "outputs": [],
   "source": []
  },
  {
   "cell_type": "code",
   "execution_count": null,
   "metadata": {},
   "outputs": [],
   "source": []
  },
  {
   "cell_type": "code",
   "execution_count": null,
   "metadata": {},
   "outputs": [],
   "source": []
  },
  {
   "cell_type": "code",
   "execution_count": 5,
   "metadata": {},
   "outputs": [],
   "source": [
    "# cof = np.corrcoef(x)\n",
    "# cof"
   ]
  },
  {
   "cell_type": "code",
   "execution_count": null,
   "metadata": {},
   "outputs": [],
   "source": []
  },
  {
   "cell_type": "code",
   "execution_count": 6,
   "metadata": {},
   "outputs": [],
   "source": [
    "# # 分析帧与帧之间的相关性\n",
    "# data_0 = data[0]\n",
    "# cof = np.corrcoef(data_0)"
   ]
  },
  {
   "cell_type": "code",
   "execution_count": null,
   "metadata": {},
   "outputs": [],
   "source": []
  }
 ],
 "metadata": {
  "kernelspec": {
   "display_name": "Python 3",
   "language": "python",
   "name": "python3"
  },
  "language_info": {
   "codemirror_mode": {
    "name": "ipython",
    "version": 3
   },
   "file_extension": ".py",
   "mimetype": "text/x-python",
   "name": "python",
   "nbconvert_exporter": "python",
   "pygments_lexer": "ipython3",
   "version": "3.6.8"
  }
 },
 "nbformat": 4,
 "nbformat_minor": 2
}
