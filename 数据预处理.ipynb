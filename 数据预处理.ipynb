{
 "cells": [
  {
   "cell_type": "code",
   "execution_count": 1,
   "metadata": {},
   "outputs": [],
   "source": [
    "from os import listdir\n",
    "from os.path import join\n",
    "import numpy as np\n",
    "#数据集地址"
   ]
  },
  {
   "cell_type": "markdown",
   "metadata": {},
   "source": [
    "# 加载数据"
   ]
  },
  {
   "cell_type": "code",
   "execution_count": 13,
   "metadata": {},
   "outputs": [],
   "source": [
    "def full_fname2_str(data_dir, fname, sep_char):\n",
    "    fnametostr = ''.join(fname).replace(data_dir, '')\n",
    "    ind = int(fnametostr.index(sep_char))\n",
    "    label = int(fnametostr[ind + 1:ind + 3])\n",
    "    return label\n",
    "def read(data_dir):\n",
    "    print('Loading MSR 3D Data, data directory %s' % data_dir)\n",
    "    data, labels, lens, subjects = [], [], [], []\n",
    "    filenames = []\n",
    "    documents = [join(data_dir, d)\n",
    "                 for d in sorted(listdir(data_dir))]\n",
    "    filenames.extend(documents)#.extend用于末尾追加另一个函数\n",
    "    filenames = np.array(filenames)#所有的文件名字array\n",
    "\n",
    "    for file in filenames:#file为路径的名字\n",
    "        #print(\"file\",file)\n",
    "        action = np.loadtxt(file)[:, :3].flatten()#去除置信度后将其展平\n",
    "        #print(\"action\",action)\n",
    "        labels.append(full_fname2_str(data_dir, file, 'a'))#label标号\n",
    "        frame_size = len(action) // 60  # 20 iskeleton num x,y,z 3D points\n",
    "        lens.append(frame_size)#帧的长度\n",
    "        action = np.asarray(action).reshape(frame_size, 60)#行数代表帧数，列数代表每一帧的特征(20*3)，可用这个去聚类\n",
    "        #print(\"action shape\",action.shape)\n",
    "        \n",
    "#         new_act = []\n",
    "#         for frame in action:\n",
    "#             new_act.append(frame)#多此一举\n",
    "\n",
    "#         data.append(new_act)\n",
    "        data.append(action)\n",
    "        subjects.append(full_fname2_str(data_dir, file, 's'))#进行这个动作的主体的标号\n",
    "        \n",
    "    data = np.asarray(data)\n",
    "    labels = np.asarray(labels) -1#从0开始\n",
    "    lens = np.asarray(lens)#每一帧的长度\n",
    "    \n",
    "    subjects = np.asarray(subjects)\n",
    "    print(\"All files read!\")\n",
    "    print('initial shapes [data label len]: %s %s %s' % (data.shape, labels.shape, lens.shape))\n",
    "    return data,labels,lens"
   ]
  },
  {
   "cell_type": "code",
   "execution_count": 14,
   "metadata": {},
   "outputs": [
    {
     "name": "stdout",
     "output_type": "stream",
     "text": [
      "Loading MSR 3D Data, data directory D:\\python code\\行为识别\\实验\\Skeleton-recognition\\data\\MSRAction3DSkeletonReal3D\n",
      "All files read!\n",
      "initial shapes [data label len]: (567,) (567,) (567,)\n"
     ]
    }
   ],
   "source": [
    "MSR_data_dir = 'D:\\python code\\行为识别\\实验\\Skeleton-recognition\\data\\MSRAction3DSkeletonReal3D'\n",
    "dataset,labels,lens = read(MSR_data_dir)\n",
    "#dataset的大小为（567，帧数，60）"
   ]
  },
  {
   "cell_type": "code",
   "execution_count": 19,
   "metadata": {},
   "outputs": [],
   "source": [
    "np.save(\"D:\\python code\\行为识别\\实验\\Skeleton-recognition\\data\\msr_3D_dataset.npy\",dataset)\n",
    "np.save(\"D:\\python code\\行为识别\\实验\\Skeleton-recognition\\data\\msr_3D_label.npy\",labels)"
   ]
  },
  {
   "cell_type": "code",
   "execution_count": null,
   "metadata": {},
   "outputs": [],
   "source": []
  },
  {
   "cell_type": "code",
   "execution_count": null,
   "metadata": {},
   "outputs": [],
   "source": []
  }
 ],
 "metadata": {
  "kernelspec": {
   "display_name": "Python 3",
   "language": "python",
   "name": "python3"
  },
  "language_info": {
   "codemirror_mode": {
    "name": "ipython",
    "version": 3
   },
   "file_extension": ".py",
   "mimetype": "text/x-python",
   "name": "python",
   "nbconvert_exporter": "python",
   "pygments_lexer": "ipython3",
   "version": "3.6.8"
  }
 },
 "nbformat": 4,
 "nbformat_minor": 2
}
